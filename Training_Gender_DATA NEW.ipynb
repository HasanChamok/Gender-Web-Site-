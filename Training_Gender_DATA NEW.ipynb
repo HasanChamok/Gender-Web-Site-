{
  "nbformat": 4,
  "nbformat_minor": 0,
  "metadata": {
    "colab": {
      "provenance": [],
      "gpuType": "T4"
    },
    "kernelspec": {
      "name": "python3",
      "display_name": "Python 3"
    },
    "language_info": {
      "name": "python"
    },
    "accelerator": "GPU"
  },
  "cells": [
    {
      "cell_type": "code",
      "execution_count": 1,
      "metadata": {
        "id": "ELcwOnqu1BIy",
        "colab": {
          "base_uri": "https://localhost:8080/"
        },
        "outputId": "4f74a377-dd4b-435e-da40-27d8e866efbe"
      },
      "outputs": [
        {
          "output_type": "stream",
          "name": "stdout",
          "text": [
            "Collecting ultralytics\n",
            "  Downloading ultralytics-8.0.203-py3-none-any.whl (644 kB)\n",
            "\u001b[2K     \u001b[90m━━━━━━━━━━━━━━━━━━━━━━━━━━━━━━━━━━━━━━━━\u001b[0m \u001b[32m644.8/644.8 kB\u001b[0m \u001b[31m11.9 MB/s\u001b[0m eta \u001b[36m0:00:00\u001b[0m\n",
            "\u001b[?25hRequirement already satisfied: matplotlib>=3.3.0 in /usr/local/lib/python3.10/dist-packages (from ultralytics) (3.7.1)\n",
            "Requirement already satisfied: numpy>=1.22.2 in /usr/local/lib/python3.10/dist-packages (from ultralytics) (1.23.5)\n",
            "Requirement already satisfied: opencv-python>=4.6.0 in /usr/local/lib/python3.10/dist-packages (from ultralytics) (4.8.0.76)\n",
            "Requirement already satisfied: pillow>=7.1.2 in /usr/local/lib/python3.10/dist-packages (from ultralytics) (9.4.0)\n",
            "Requirement already satisfied: pyyaml>=5.3.1 in /usr/local/lib/python3.10/dist-packages (from ultralytics) (6.0.1)\n",
            "Requirement already satisfied: requests>=2.23.0 in /usr/local/lib/python3.10/dist-packages (from ultralytics) (2.31.0)\n",
            "Requirement already satisfied: scipy>=1.4.1 in /usr/local/lib/python3.10/dist-packages (from ultralytics) (1.11.3)\n",
            "Requirement already satisfied: torch>=1.8.0 in /usr/local/lib/python3.10/dist-packages (from ultralytics) (2.1.0+cu118)\n",
            "Requirement already satisfied: torchvision>=0.9.0 in /usr/local/lib/python3.10/dist-packages (from ultralytics) (0.16.0+cu118)\n",
            "Requirement already satisfied: tqdm>=4.64.0 in /usr/local/lib/python3.10/dist-packages (from ultralytics) (4.66.1)\n",
            "Requirement already satisfied: pandas>=1.1.4 in /usr/local/lib/python3.10/dist-packages (from ultralytics) (1.5.3)\n",
            "Requirement already satisfied: seaborn>=0.11.0 in /usr/local/lib/python3.10/dist-packages (from ultralytics) (0.12.2)\n",
            "Requirement already satisfied: psutil in /usr/local/lib/python3.10/dist-packages (from ultralytics) (5.9.5)\n",
            "Requirement already satisfied: py-cpuinfo in /usr/local/lib/python3.10/dist-packages (from ultralytics) (9.0.0)\n",
            "Collecting thop>=0.1.1 (from ultralytics)\n",
            "  Downloading thop-0.1.1.post2209072238-py3-none-any.whl (15 kB)\n",
            "Requirement already satisfied: contourpy>=1.0.1 in /usr/local/lib/python3.10/dist-packages (from matplotlib>=3.3.0->ultralytics) (1.1.1)\n",
            "Requirement already satisfied: cycler>=0.10 in /usr/local/lib/python3.10/dist-packages (from matplotlib>=3.3.0->ultralytics) (0.12.1)\n",
            "Requirement already satisfied: fonttools>=4.22.0 in /usr/local/lib/python3.10/dist-packages (from matplotlib>=3.3.0->ultralytics) (4.43.1)\n",
            "Requirement already satisfied: kiwisolver>=1.0.1 in /usr/local/lib/python3.10/dist-packages (from matplotlib>=3.3.0->ultralytics) (1.4.5)\n",
            "Requirement already satisfied: packaging>=20.0 in /usr/local/lib/python3.10/dist-packages (from matplotlib>=3.3.0->ultralytics) (23.2)\n",
            "Requirement already satisfied: pyparsing>=2.3.1 in /usr/local/lib/python3.10/dist-packages (from matplotlib>=3.3.0->ultralytics) (3.1.1)\n",
            "Requirement already satisfied: python-dateutil>=2.7 in /usr/local/lib/python3.10/dist-packages (from matplotlib>=3.3.0->ultralytics) (2.8.2)\n",
            "Requirement already satisfied: pytz>=2020.1 in /usr/local/lib/python3.10/dist-packages (from pandas>=1.1.4->ultralytics) (2023.3.post1)\n",
            "Requirement already satisfied: charset-normalizer<4,>=2 in /usr/local/lib/python3.10/dist-packages (from requests>=2.23.0->ultralytics) (3.3.1)\n",
            "Requirement already satisfied: idna<4,>=2.5 in /usr/local/lib/python3.10/dist-packages (from requests>=2.23.0->ultralytics) (3.4)\n",
            "Requirement already satisfied: urllib3<3,>=1.21.1 in /usr/local/lib/python3.10/dist-packages (from requests>=2.23.0->ultralytics) (2.0.7)\n",
            "Requirement already satisfied: certifi>=2017.4.17 in /usr/local/lib/python3.10/dist-packages (from requests>=2.23.0->ultralytics) (2023.7.22)\n",
            "Requirement already satisfied: filelock in /usr/local/lib/python3.10/dist-packages (from torch>=1.8.0->ultralytics) (3.12.4)\n",
            "Requirement already satisfied: typing-extensions in /usr/local/lib/python3.10/dist-packages (from torch>=1.8.0->ultralytics) (4.5.0)\n",
            "Requirement already satisfied: sympy in /usr/local/lib/python3.10/dist-packages (from torch>=1.8.0->ultralytics) (1.12)\n",
            "Requirement already satisfied: networkx in /usr/local/lib/python3.10/dist-packages (from torch>=1.8.0->ultralytics) (3.2)\n",
            "Requirement already satisfied: jinja2 in /usr/local/lib/python3.10/dist-packages (from torch>=1.8.0->ultralytics) (3.1.2)\n",
            "Requirement already satisfied: fsspec in /usr/local/lib/python3.10/dist-packages (from torch>=1.8.0->ultralytics) (2023.6.0)\n",
            "Requirement already satisfied: triton==2.1.0 in /usr/local/lib/python3.10/dist-packages (from torch>=1.8.0->ultralytics) (2.1.0)\n",
            "Requirement already satisfied: six>=1.5 in /usr/local/lib/python3.10/dist-packages (from python-dateutil>=2.7->matplotlib>=3.3.0->ultralytics) (1.16.0)\n",
            "Requirement already satisfied: MarkupSafe>=2.0 in /usr/local/lib/python3.10/dist-packages (from jinja2->torch>=1.8.0->ultralytics) (2.1.3)\n",
            "Requirement already satisfied: mpmath>=0.19 in /usr/local/lib/python3.10/dist-packages (from sympy->torch>=1.8.0->ultralytics) (1.3.0)\n",
            "Installing collected packages: thop, ultralytics\n",
            "Successfully installed thop-0.1.1.post2209072238 ultralytics-8.0.203\n"
          ]
        }
      ],
      "source": [
        "!pip install ultralytics"
      ]
    },
    {
      "cell_type": "code",
      "source": [
        "import os\n",
        "import shutil\n",
        "import random\n",
        "\n",
        "!pip install tqdm --upgrade\n",
        "\n",
        "from tqdm.notebook import tqdm\n"
      ],
      "metadata": {
        "id": "lCOHs8Op62Gz",
        "colab": {
          "base_uri": "https://localhost:8080/"
        },
        "outputId": "cfbe51bd-4ccd-4c19-e094-ecd02e9c270d"
      },
      "execution_count": 2,
      "outputs": [
        {
          "output_type": "stream",
          "name": "stdout",
          "text": [
            "Requirement already satisfied: tqdm in /usr/local/lib/python3.10/dist-packages (4.66.1)\n"
          ]
        }
      ]
    },
    {
      "cell_type": "code",
      "source": [
        "from google.colab import drive\n",
        "drive.mount('/content/drive')"
      ],
      "metadata": {
        "id": "J1LKVO0B7jlB",
        "colab": {
          "base_uri": "https://localhost:8080/"
        },
        "outputId": "083ef118-4946-4cc0-fcfe-337ae63eb49a"
      },
      "execution_count": 3,
      "outputs": [
        {
          "output_type": "stream",
          "name": "stdout",
          "text": [
            "Mounted at /content/drive\n"
          ]
        }
      ]
    },
    {
      "cell_type": "code",
      "source": [
        "train_path_img = './MyDrive/Gender.v1i.yolov8/train/images'\n",
        "train_path_label = './MyDrive/Gender.v1i.yolov8/train/labels'\n",
        "val_path_img = './MyDrive/Gender.v1i.yolov8/valid/images'\n",
        "val_path_label = './MyDrive/Gender.v1i.yolov8/valid/labels'\n",
        "test_path_img = './MyDrive/Gender.v1i.yolov8/test/images'\n",
        "test_path_label = './MyDrive/Gender.v1i.yolov8/test/label'"
      ],
      "metadata": {
        "id": "SpFjLfFO7w9X"
      },
      "execution_count": 4,
      "outputs": []
    },
    {
      "cell_type": "code",
      "source": [
        "import ultralytics\n",
        "ultralytics.checks()"
      ],
      "metadata": {
        "id": "0nwMaoMBIWse",
        "colab": {
          "base_uri": "https://localhost:8080/"
        },
        "outputId": "6996899b-5e2e-4557-9335-cdb6e2d12883"
      },
      "execution_count": 5,
      "outputs": [
        {
          "output_type": "stream",
          "name": "stderr",
          "text": [
            "Ultralytics YOLOv8.0.203 🚀 Python-3.10.12 torch-2.1.0+cu118 CUDA:0 (Tesla T4, 15102MiB)\n",
            "Setup complete ✅ (2 CPUs, 12.7 GB RAM, 27.1/78.2 GB disk)\n"
          ]
        }
      ]
    },
    {
      "cell_type": "code",
      "source": [
        "!yolo task=detect mode=train model=yolov8s.pt data=/content/drive/MyDrive/Gender.v1i.yolov8/data.yaml epochs=10 imgsz=640 batch=8 project=/content/drive/MyDrive/Gender.v1i.yolov8/Result name=gender"
      ],
      "metadata": {
        "id": "8rOOEAfTCvRD",
        "colab": {
          "base_uri": "https://localhost:8080/"
        },
        "outputId": "7bd7f6d9-bf13-47ae-c1b3-e1e4b5537293"
      },
      "execution_count": 6,
      "outputs": [
        {
          "output_type": "stream",
          "name": "stdout",
          "text": [
            "Downloading https://github.com/ultralytics/assets/releases/download/v0.0.0/yolov8s.pt to 'yolov8s.pt'...\n",
            "100% 21.5M/21.5M [00:00<00:00, 241MB/s]\n",
            "Ultralytics YOLOv8.0.203 🚀 Python-3.10.12 torch-2.1.0+cu118 CUDA:0 (Tesla T4, 15102MiB)\n",
            "\u001b[34m\u001b[1mengine/trainer: \u001b[0mtask=detect, mode=train, model=yolov8s.pt, data=/content/drive/MyDrive/Gender.v1i.yolov8/data.yaml, epochs=10, patience=50, batch=8, imgsz=640, save=True, save_period=-1, cache=False, device=None, workers=8, project=/content/drive/MyDrive/Gender.v1i.yolov8/Result, name=gender, exist_ok=False, pretrained=True, optimizer=auto, verbose=True, seed=0, deterministic=True, single_cls=False, rect=False, cos_lr=False, close_mosaic=10, resume=False, amp=True, fraction=1.0, profile=False, freeze=None, overlap_mask=True, mask_ratio=4, dropout=0.0, val=True, split=val, save_json=False, save_hybrid=False, conf=None, iou=0.7, max_det=300, half=False, dnn=False, plots=True, source=None, show=False, save_txt=False, save_conf=False, save_crop=False, show_labels=True, show_conf=True, vid_stride=1, stream_buffer=False, line_width=None, visualize=False, augment=False, agnostic_nms=False, classes=None, retina_masks=False, boxes=True, format=torchscript, keras=False, optimize=False, int8=False, dynamic=False, simplify=False, opset=None, workspace=4, nms=False, lr0=0.01, lrf=0.01, momentum=0.937, weight_decay=0.0005, warmup_epochs=3.0, warmup_momentum=0.8, warmup_bias_lr=0.1, box=7.5, cls=0.5, dfl=1.5, pose=12.0, kobj=1.0, label_smoothing=0.0, nbs=64, hsv_h=0.015, hsv_s=0.7, hsv_v=0.4, degrees=0.0, translate=0.1, scale=0.5, shear=0.0, perspective=0.0, flipud=0.0, fliplr=0.5, mosaic=1.0, mixup=0.0, copy_paste=0.0, cfg=None, tracker=botsort.yaml, save_dir=/content/drive/MyDrive/Gender.v1i.yolov8/Result/gender\n",
            "Downloading https://ultralytics.com/assets/Arial.ttf to '/root/.config/Ultralytics/Arial.ttf'...\n",
            "100% 755k/755k [00:00<00:00, 21.5MB/s]\n",
            "2023-11-01 09:20:30.108382: E tensorflow/compiler/xla/stream_executor/cuda/cuda_dnn.cc:9342] Unable to register cuDNN factory: Attempting to register factory for plugin cuDNN when one has already been registered\n",
            "2023-11-01 09:20:30.108439: E tensorflow/compiler/xla/stream_executor/cuda/cuda_fft.cc:609] Unable to register cuFFT factory: Attempting to register factory for plugin cuFFT when one has already been registered\n",
            "2023-11-01 09:20:30.108482: E tensorflow/compiler/xla/stream_executor/cuda/cuda_blas.cc:1518] Unable to register cuBLAS factory: Attempting to register factory for plugin cuBLAS when one has already been registered\n",
            "Overriding model.yaml nc=80 with nc=2\n",
            "\n",
            "                   from  n    params  module                                       arguments                     \n",
            "  0                  -1  1       928  ultralytics.nn.modules.conv.Conv             [3, 32, 3, 2]                 \n",
            "  1                  -1  1     18560  ultralytics.nn.modules.conv.Conv             [32, 64, 3, 2]                \n",
            "  2                  -1  1     29056  ultralytics.nn.modules.block.C2f             [64, 64, 1, True]             \n",
            "  3                  -1  1     73984  ultralytics.nn.modules.conv.Conv             [64, 128, 3, 2]               \n",
            "  4                  -1  2    197632  ultralytics.nn.modules.block.C2f             [128, 128, 2, True]           \n",
            "  5                  -1  1    295424  ultralytics.nn.modules.conv.Conv             [128, 256, 3, 2]              \n",
            "  6                  -1  2    788480  ultralytics.nn.modules.block.C2f             [256, 256, 2, True]           \n",
            "  7                  -1  1   1180672  ultralytics.nn.modules.conv.Conv             [256, 512, 3, 2]              \n",
            "  8                  -1  1   1838080  ultralytics.nn.modules.block.C2f             [512, 512, 1, True]           \n",
            "  9                  -1  1    656896  ultralytics.nn.modules.block.SPPF            [512, 512, 5]                 \n",
            " 10                  -1  1         0  torch.nn.modules.upsampling.Upsample         [None, 2, 'nearest']          \n",
            " 11             [-1, 6]  1         0  ultralytics.nn.modules.conv.Concat           [1]                           \n",
            " 12                  -1  1    591360  ultralytics.nn.modules.block.C2f             [768, 256, 1]                 \n",
            " 13                  -1  1         0  torch.nn.modules.upsampling.Upsample         [None, 2, 'nearest']          \n",
            " 14             [-1, 4]  1         0  ultralytics.nn.modules.conv.Concat           [1]                           \n",
            " 15                  -1  1    148224  ultralytics.nn.modules.block.C2f             [384, 128, 1]                 \n",
            " 16                  -1  1    147712  ultralytics.nn.modules.conv.Conv             [128, 128, 3, 2]              \n",
            " 17            [-1, 12]  1         0  ultralytics.nn.modules.conv.Concat           [1]                           \n",
            " 18                  -1  1    493056  ultralytics.nn.modules.block.C2f             [384, 256, 1]                 \n",
            " 19                  -1  1    590336  ultralytics.nn.modules.conv.Conv             [256, 256, 3, 2]              \n",
            " 20             [-1, 9]  1         0  ultralytics.nn.modules.conv.Concat           [1]                           \n",
            " 21                  -1  1   1969152  ultralytics.nn.modules.block.C2f             [768, 512, 1]                 \n",
            " 22        [15, 18, 21]  1   2116822  ultralytics.nn.modules.head.Detect           [2, [128, 256, 512]]          \n",
            "Model summary: 225 layers, 11136374 parameters, 11136358 gradients, 28.6 GFLOPs\n",
            "\n",
            "Transferred 349/355 items from pretrained weights\n",
            "\u001b[34m\u001b[1mTensorBoard: \u001b[0mStart with 'tensorboard --logdir /content/drive/MyDrive/Gender.v1i.yolov8/Result/gender', view at http://localhost:6006/\n",
            "Freezing layer 'model.22.dfl.conv.weight'\n",
            "\u001b[34m\u001b[1mAMP: \u001b[0mrunning Automatic Mixed Precision (AMP) checks with YOLOv8n...\n",
            "Downloading https://github.com/ultralytics/assets/releases/download/v0.0.0/yolov8n.pt to 'yolov8n.pt'...\n",
            "100% 6.23M/6.23M [00:00<00:00, 97.1MB/s]\n",
            "\u001b[34m\u001b[1mAMP: \u001b[0mchecks passed ✅\n",
            "\u001b[34m\u001b[1mtrain: \u001b[0mScanning /content/drive/MyDrive/Gender.v1i.yolov8/train/labels... 4240 images, 0 backgrounds, 0 corrupt: 100% 4240/4240 [23:46<00:00,  2.97it/s]\n",
            "\u001b[34m\u001b[1mtrain: \u001b[0mNew cache created: /content/drive/MyDrive/Gender.v1i.yolov8/train/labels.cache\n",
            "\u001b[34m\u001b[1malbumentations: \u001b[0mBlur(p=0.01, blur_limit=(3, 7)), MedianBlur(p=0.01, blur_limit=(3, 7)), ToGray(p=0.01), CLAHE(p=0.01, clip_limit=(1, 4.0), tile_grid_size=(8, 8))\n",
            "\u001b[34m\u001b[1mval: \u001b[0mScanning /content/drive/MyDrive/Gender.v1i.yolov8/valid/labels... 386 images, 0 backgrounds, 0 corrupt: 100% 386/386 [01:23<00:00,  4.60it/s]\n",
            "\u001b[34m\u001b[1mval: \u001b[0mNew cache created: /content/drive/MyDrive/Gender.v1i.yolov8/valid/labels.cache\n",
            "Plotting labels to /content/drive/MyDrive/Gender.v1i.yolov8/Result/gender/labels.jpg... \n",
            "\u001b[34m\u001b[1moptimizer:\u001b[0m 'optimizer=auto' found, ignoring 'lr0=0.01' and 'momentum=0.937' and determining best 'optimizer', 'lr0' and 'momentum' automatically... \n",
            "\u001b[34m\u001b[1moptimizer:\u001b[0m AdamW(lr=0.001667, momentum=0.9) with parameter groups 57 weight(decay=0.0), 64 weight(decay=0.0005), 63 bias(decay=0.0)\n",
            "Image sizes 640 train, 640 val\n",
            "Using 2 dataloader workers\n",
            "Logging results to \u001b[1m/content/drive/MyDrive/Gender.v1i.yolov8/Result/gender\u001b[0m\n",
            "Starting training for 10 epochs...\n",
            "Closing dataloader mosaic\n",
            "\u001b[34m\u001b[1malbumentations: \u001b[0mBlur(p=0.01, blur_limit=(3, 7)), MedianBlur(p=0.01, blur_limit=(3, 7)), ToGray(p=0.01), CLAHE(p=0.01, clip_limit=(1, 4.0), tile_grid_size=(8, 8))\n",
            "\n",
            "      Epoch    GPU_mem   box_loss   cls_loss   dfl_loss  Instances       Size\n",
            "       1/10      2.15G     0.2769      1.099     0.9614         17        640: 100% 530/530 [02:04<00:00,  4.25it/s]\n",
            "                 Class     Images  Instances      Box(P          R      mAP50  mAP50-95): 100% 25/25 [00:07<00:00,  3.17it/s]\n",
            "                   all        386        386      0.513      0.784      0.555      0.502\n",
            "\n",
            "      Epoch    GPU_mem   box_loss   cls_loss   dfl_loss  Instances       Size\n",
            "       2/10      2.22G     0.2609     0.8613     0.9382         12        640: 100% 530/530 [01:58<00:00,  4.48it/s]\n",
            "                 Class     Images  Instances      Box(P          R      mAP50  mAP50-95): 100% 25/25 [00:04<00:00,  5.45it/s]\n",
            "                   all        386        386      0.613      0.733      0.684      0.666\n",
            "\n",
            "      Epoch    GPU_mem   box_loss   cls_loss   dfl_loss  Instances       Size\n",
            "       3/10      2.23G     0.2319     0.8091     0.9319         17        640: 100% 530/530 [01:59<00:00,  4.43it/s]\n",
            "                 Class     Images  Instances      Box(P          R      mAP50  mAP50-95): 100% 25/25 [00:05<00:00,  4.56it/s]\n",
            "                   all        386        386      0.701      0.895      0.877      0.796\n",
            "\n",
            "      Epoch    GPU_mem   box_loss   cls_loss   dfl_loss  Instances       Size\n",
            "       4/10      2.23G     0.1971     0.7572     0.9156         23        640: 100% 530/530 [01:55<00:00,  4.60it/s]\n",
            "                 Class     Images  Instances      Box(P          R      mAP50  mAP50-95): 100% 25/25 [00:06<00:00,  3.82it/s]\n",
            "                   all        386        386      0.826      0.761      0.881      0.835\n",
            "\n",
            "      Epoch    GPU_mem   box_loss   cls_loss   dfl_loss  Instances       Size\n",
            "       5/10      2.23G     0.1865     0.7043     0.9044         28        640: 100% 530/530 [01:59<00:00,  4.44it/s]\n",
            "                 Class     Images  Instances      Box(P          R      mAP50  mAP50-95): 100% 25/25 [00:04<00:00,  5.50it/s]\n",
            "                   all        386        386      0.826      0.892      0.943      0.902\n",
            "\n",
            "      Epoch    GPU_mem   box_loss   cls_loss   dfl_loss  Instances       Size\n",
            "       6/10      2.22G      0.164     0.6665     0.8965         17        640: 100% 530/530 [01:57<00:00,  4.51it/s]\n",
            "                 Class     Images  Instances      Box(P          R      mAP50  mAP50-95): 100% 25/25 [00:04<00:00,  5.58it/s]\n",
            "                   all        386        386      0.851      0.843      0.935      0.926\n",
            "\n",
            "      Epoch    GPU_mem   box_loss   cls_loss   dfl_loss  Instances       Size\n",
            "       7/10      2.22G     0.1421      0.608     0.8887         25        640: 100% 530/530 [01:59<00:00,  4.44it/s]\n",
            "                 Class     Images  Instances      Box(P          R      mAP50  mAP50-95): 100% 25/25 [00:04<00:00,  5.14it/s]\n",
            "                   all        386        386      0.831      0.924      0.955      0.901\n",
            "\n",
            "      Epoch    GPU_mem   box_loss   cls_loss   dfl_loss  Instances       Size\n",
            "       8/10      2.22G     0.1312     0.5666     0.8907         17        640: 100% 530/530 [01:56<00:00,  4.55it/s]\n",
            "                 Class     Images  Instances      Box(P          R      mAP50  mAP50-95): 100% 25/25 [00:06<00:00,  3.91it/s]\n",
            "                   all        386        386      0.872      0.872      0.952      0.947\n",
            "\n",
            "      Epoch    GPU_mem   box_loss   cls_loss   dfl_loss  Instances       Size\n",
            "       9/10      2.22G     0.1183      0.525     0.8808         23        640: 100% 530/530 [01:59<00:00,  4.42it/s]\n",
            "                 Class     Images  Instances      Box(P          R      mAP50  mAP50-95): 100% 25/25 [00:04<00:00,  5.45it/s]\n",
            "                   all        386        386      0.878       0.87      0.944      0.938\n",
            "\n",
            "      Epoch    GPU_mem   box_loss   cls_loss   dfl_loss  Instances       Size\n",
            "      10/10      2.23G     0.1043     0.4894     0.8749         23        640: 100% 530/530 [01:57<00:00,  4.50it/s]\n",
            "                 Class     Images  Instances      Box(P          R      mAP50  mAP50-95): 100% 25/25 [00:04<00:00,  5.48it/s]\n",
            "                   all        386        386      0.897      0.889      0.964      0.962\n",
            "\n",
            "10 epochs completed in 0.350 hours.\n",
            "Optimizer stripped from /content/drive/MyDrive/Gender.v1i.yolov8/Result/gender/weights/last.pt, 22.5MB\n",
            "Optimizer stripped from /content/drive/MyDrive/Gender.v1i.yolov8/Result/gender/weights/best.pt, 22.5MB\n",
            "\n",
            "Validating /content/drive/MyDrive/Gender.v1i.yolov8/Result/gender/weights/best.pt...\n",
            "Ultralytics YOLOv8.0.203 🚀 Python-3.10.12 torch-2.1.0+cu118 CUDA:0 (Tesla T4, 15102MiB)\n",
            "Model summary (fused): 168 layers, 11126358 parameters, 0 gradients, 28.4 GFLOPs\n",
            "                 Class     Images  Instances      Box(P          R      mAP50  mAP50-95): 100% 25/25 [00:07<00:00,  3.15it/s]\n",
            "                   all        386        386      0.897      0.889      0.964      0.962\n",
            "                female        386        172      0.918      0.848      0.956      0.955\n",
            "                  male        386        214      0.877       0.93      0.971      0.968\n",
            "Speed: 0.4ms preprocess, 5.7ms inference, 0.0ms loss, 2.7ms postprocess per image\n",
            "Results saved to \u001b[1m/content/drive/MyDrive/Gender.v1i.yolov8/Result/gender\u001b[0m\n",
            "💡 Learn more at https://docs.ultralytics.com/modes/train\n"
          ]
        }
      ]
    },
    {
      "cell_type": "code",
      "source": [
        "!yolo task=detect mode=predict model=/content/drive/MyDrive/Gender.v1i.yolov8/Result/gender/weights/best.pt conf=0.55 source=/content/drive/MyDrive/Gender.v1i.yolov8/test/images"
      ],
      "metadata": {
        "colab": {
          "base_uri": "https://localhost:8080/"
        },
        "id": "mbOW-5u-otmI",
        "outputId": "64ae7b65-db30-4184-8948-37b4bf41967e"
      },
      "execution_count": 7,
      "outputs": [
        {
          "output_type": "stream",
          "name": "stdout",
          "text": [
            "Ultralytics YOLOv8.0.203 🚀 Python-3.10.12 torch-2.1.0+cu118 CUDA:0 (Tesla T4, 15102MiB)\n",
            "Model summary (fused): 168 layers, 11126358 parameters, 0 gradients, 28.4 GFLOPs\n",
            "\n",
            "image 1/195 /content/drive/MyDrive/Gender.v1i.yolov8/test/images/0-10-_jpg.rf.8b368836a0b7c1bc77231aa138a62eaa.jpg: 640x640 1 female, 16.3ms\n",
            "image 2/195 /content/drive/MyDrive/Gender.v1i.yolov8/test/images/0-1005-_jpg.rf.38977c9e241d7b0490b23f216967059d.jpg: 640x640 1 female, 32.2ms\n",
            "image 3/195 /content/drive/MyDrive/Gender.v1i.yolov8/test/images/0-1019-_jpg.rf.a3b670269c1e8f3fb5121f9908c2d5a8.jpg: 640x640 1 female, 19.8ms\n",
            "image 4/195 /content/drive/MyDrive/Gender.v1i.yolov8/test/images/0-1024-_jpg.rf.16cdd0c23662b15c2d897692bdd1762a.jpg: 640x640 1 female, 17.2ms\n",
            "image 5/195 /content/drive/MyDrive/Gender.v1i.yolov8/test/images/0-1027-_jpg.rf.02f0a8746f5467b140d5b069e1bc51f4.jpg: 640x640 1 female, 18.9ms\n",
            "image 6/195 /content/drive/MyDrive/Gender.v1i.yolov8/test/images/0-1044-_jpg.rf.854edc3f9bf4d106d8dfd67f5a00f62f.jpg: 640x640 1 female, 16.2ms\n",
            "image 7/195 /content/drive/MyDrive/Gender.v1i.yolov8/test/images/0-1047-_jpg.rf.89d9dcf5968f63502754d9039856f99c.jpg: 640x640 1 female, 16.2ms\n",
            "image 8/195 /content/drive/MyDrive/Gender.v1i.yolov8/test/images/0-1074-_jpg.rf.479225f0fabb21eb441b83275c50f8f3.jpg: 640x640 1 female, 16.3ms\n",
            "image 9/195 /content/drive/MyDrive/Gender.v1i.yolov8/test/images/0-1075-_jpg.rf.77846f73792b9c56658c08d17b74b7d9.jpg: 640x640 1 female, 16.2ms\n",
            "image 10/195 /content/drive/MyDrive/Gender.v1i.yolov8/test/images/0-1076-_jpg.rf.fc31b591f233d66fd39a623ce917a049.jpg: 640x640 1 female, 16.2ms\n",
            "image 11/195 /content/drive/MyDrive/Gender.v1i.yolov8/test/images/0-1095-_jpg.rf.44c5312a450c35b3d52b24a22755136e.jpg: 640x640 1 female, 16.2ms\n",
            "image 12/195 /content/drive/MyDrive/Gender.v1i.yolov8/test/images/0-1105-_jpg.rf.6bee151585573c775fc31a41c37d9cc6.jpg: 640x640 1 female, 16.2ms\n",
            "image 13/195 /content/drive/MyDrive/Gender.v1i.yolov8/test/images/0-1110-_jpg.rf.c78e10e4357dd8ea6200ebb3a4875f39.jpg: 640x640 1 female, 17.6ms\n",
            "image 14/195 /content/drive/MyDrive/Gender.v1i.yolov8/test/images/0-1111-_jpg.rf.77520f1907dc63e1be7b016433dcf25f.jpg: 640x640 1 female, 16.2ms\n",
            "image 15/195 /content/drive/MyDrive/Gender.v1i.yolov8/test/images/0-1112-_jpg.rf.b92da2f5b7c2f67e527666d2bb8c93d4.jpg: 640x640 1 female, 15.5ms\n",
            "image 16/195 /content/drive/MyDrive/Gender.v1i.yolov8/test/images/0-1113-_jpg.rf.1b893797afc76d80f34f9fbf7c82fb4f.jpg: 640x640 1 male, 15.5ms\n",
            "image 17/195 /content/drive/MyDrive/Gender.v1i.yolov8/test/images/0-1123-_jpg.rf.47fa0d04db709826854b38f62c79b18b.jpg: 640x640 1 female, 15.5ms\n",
            "image 18/195 /content/drive/MyDrive/Gender.v1i.yolov8/test/images/0-1146-_jpg.rf.d4cf26a738ed825213607c77bc5dc0d3.jpg: 640x640 1 female, 15.5ms\n",
            "image 19/195 /content/drive/MyDrive/Gender.v1i.yolov8/test/images/0-1155-_jpg.rf.c069706b18b9e857d1f041c2eebe090f.jpg: 640x640 1 female, 15.6ms\n",
            "image 20/195 /content/drive/MyDrive/Gender.v1i.yolov8/test/images/0-1177-_jpg.rf.806736c6d3e6b429643c36742915b1ca.jpg: 640x640 1 female, 15.5ms\n",
            "image 21/195 /content/drive/MyDrive/Gender.v1i.yolov8/test/images/0-1185-_jpg.rf.2356d1c344cb07d35425cc761a5a92be.jpg: 640x640 1 female, 16.7ms\n",
            "image 22/195 /content/drive/MyDrive/Gender.v1i.yolov8/test/images/0-1194-_jpg.rf.1b791a47acab0f656e35e55b95429d9d.jpg: 640x640 1 female, 15.6ms\n",
            "image 23/195 /content/drive/MyDrive/Gender.v1i.yolov8/test/images/0-12-_jpeg.rf.3514c7d4167ac5d5e8d7969d5e719f0b.jpg: 640x640 1 female, 15.6ms\n",
            "image 24/195 /content/drive/MyDrive/Gender.v1i.yolov8/test/images/0-1203-_jpg.rf.7d4a5885ce1ded317c209b648a872b2a.jpg: 640x640 1 female, 15.5ms\n",
            "image 25/195 /content/drive/MyDrive/Gender.v1i.yolov8/test/images/0-1207-_jpg.rf.fea6be6c3277dbca09acb3b56faf8a4e.jpg: 640x640 1 female, 15.5ms\n",
            "image 26/195 /content/drive/MyDrive/Gender.v1i.yolov8/test/images/0-1213-_jpg.rf.54eef55042f8535344fb1bead758b7e1.jpg: 640x640 1 female, 15.6ms\n",
            "image 27/195 /content/drive/MyDrive/Gender.v1i.yolov8/test/images/0-1217-_jpg.rf.09319bc3ab57c2932d5133adeda74084.jpg: 640x640 1 female, 15.6ms\n",
            "image 28/195 /content/drive/MyDrive/Gender.v1i.yolov8/test/images/0-1229-_jpg.rf.a5d76d66cbed3d8333b848d6ba933ce7.jpg: 640x640 1 female, 15.5ms\n",
            "image 29/195 /content/drive/MyDrive/Gender.v1i.yolov8/test/images/0-1232-_jpg.rf.2de4e310f55a33e0018f92f92e9859f0.jpg: 640x640 1 female, 15.6ms\n",
            "image 30/195 /content/drive/MyDrive/Gender.v1i.yolov8/test/images/0-1233-_jpg.rf.2d1c6ca61e1a7fa7e0ddedc5609c2f33.jpg: 640x640 1 female, 15.5ms\n",
            "image 31/195 /content/drive/MyDrive/Gender.v1i.yolov8/test/images/0-1237-_jpg.rf.03d6922bb4fc5b1fc2bd6190e6d211e3.jpg: 640x640 1 female, 15.5ms\n",
            "image 32/195 /content/drive/MyDrive/Gender.v1i.yolov8/test/images/0-1245-_jpg.rf.ed924d4356135dc57c2011e4a5e2ce94.jpg: 640x640 1 female, 15.6ms\n",
            "image 33/195 /content/drive/MyDrive/Gender.v1i.yolov8/test/images/0-1257-_jpg.rf.2b5c0c301b457ce1bbd30e4a7ffcf900.jpg: 640x640 1 female, 15.6ms\n",
            "image 34/195 /content/drive/MyDrive/Gender.v1i.yolov8/test/images/0-1267-_jpg.rf.53c5e4f0ea5481ab352d42d3d35ad599.jpg: 640x640 1 female, 15.5ms\n",
            "image 35/195 /content/drive/MyDrive/Gender.v1i.yolov8/test/images/0-1285-_jpg.rf.a9e8cbcbfd3d13e83b5c9d242fec5c8f.jpg: 640x640 1 female, 15.6ms\n",
            "image 36/195 /content/drive/MyDrive/Gender.v1i.yolov8/test/images/0-131-_jpg.rf.bbe0bbc06505c8d8bfec4898892550de.jpg: 640x640 1 female, 15.5ms\n",
            "image 37/195 /content/drive/MyDrive/Gender.v1i.yolov8/test/images/0-1326-_jpg.rf.13de43c5ac223ae484dd3fc4aa6c6dee.jpg: 640x640 1 female, 15.5ms\n",
            "image 38/195 /content/drive/MyDrive/Gender.v1i.yolov8/test/images/0-1352-_jpg.rf.ba309f859b25d4711c043426005842d0.jpg: 640x640 1 female, 15.5ms\n",
            "image 39/195 /content/drive/MyDrive/Gender.v1i.yolov8/test/images/0-1353-_jpg.rf.4b7565d95164e96e769cbce09a6b5a11.jpg: 640x640 1 female, 15.5ms\n",
            "image 40/195 /content/drive/MyDrive/Gender.v1i.yolov8/test/images/0-1368-_jpg.rf.b0fdf595df866bf4c3dc584753a43e7e.jpg: 640x640 1 female, 15.6ms\n",
            "image 41/195 /content/drive/MyDrive/Gender.v1i.yolov8/test/images/0-1383-_jpg.rf.b10c7bbd63b2b05405bd144dd38ddcc5.jpg: 640x640 1 female, 15.5ms\n",
            "image 42/195 /content/drive/MyDrive/Gender.v1i.yolov8/test/images/0-1389-_jpg.rf.fa064b5b3ed2cef70a71e5c0d5290e63.jpg: 640x640 1 female, 15.6ms\n",
            "image 43/195 /content/drive/MyDrive/Gender.v1i.yolov8/test/images/0-1398-_jpg.rf.3818195ad3b0035b4cb738f28eea2a47.jpg: 640x640 1 female, 15.6ms\n",
            "image 44/195 /content/drive/MyDrive/Gender.v1i.yolov8/test/images/0-1407-_jpg.rf.90b0f16f41b17df071e13a9b71ac9d6b.jpg: 640x640 1 female, 15.5ms\n",
            "image 45/195 /content/drive/MyDrive/Gender.v1i.yolov8/test/images/0-1422-_jpg.rf.d052ca256dab4ced28af4fe7dd93e526.jpg: 640x640 1 female, 15.5ms\n",
            "image 46/195 /content/drive/MyDrive/Gender.v1i.yolov8/test/images/0-1424-_jpg.rf.2e2bb4c53d5afbf132cef97928faaf82.jpg: 640x640 1 female, 15.5ms\n",
            "image 47/195 /content/drive/MyDrive/Gender.v1i.yolov8/test/images/0-1428-_jpg.rf.3fd4dbe4f9561a35f0ef507c2fcc7e59.jpg: 640x640 1 female, 15.6ms\n",
            "image 48/195 /content/drive/MyDrive/Gender.v1i.yolov8/test/images/0-1430-_jpg.rf.bbc4f9364331be4a745efb7fdfbca0d7.jpg: 640x640 1 female, 15.6ms\n",
            "image 49/195 /content/drive/MyDrive/Gender.v1i.yolov8/test/images/0-1434-_jpg.rf.da9117495c4c0e5d52db8516a46d052d.jpg: 640x640 1 male, 15.5ms\n",
            "image 50/195 /content/drive/MyDrive/Gender.v1i.yolov8/test/images/0-144-_jpg.rf.93772979a624bb23a36d8f6baefc9658.jpg: 640x640 1 female, 15.6ms\n",
            "image 51/195 /content/drive/MyDrive/Gender.v1i.yolov8/test/images/0-1455-_jpg.rf.981c8c5c5553f20d5514add61e9c7ba9.jpg: 640x640 1 female, 15.5ms\n",
            "image 52/195 /content/drive/MyDrive/Gender.v1i.yolov8/test/images/0-1457-_jpg.rf.89c0d860cf090a1125cae703a99e5543.jpg: 640x640 1 female, 15.5ms\n",
            "image 53/195 /content/drive/MyDrive/Gender.v1i.yolov8/test/images/0-1463-_jpg.rf.ec9366afc8a6fbd2a977c1d516e3f618.jpg: 640x640 1 female, 15.5ms\n",
            "image 54/195 /content/drive/MyDrive/Gender.v1i.yolov8/test/images/0-1499-_jpg.rf.a4fe7b071f2537bfd9bec99357f4f3fa.jpg: 640x640 1 female, 15.5ms\n",
            "image 55/195 /content/drive/MyDrive/Gender.v1i.yolov8/test/images/0-1505-_jpg.rf.919e3afbe461d2f90a35840aecb19337.jpg: 640x640 1 female, 15.5ms\n",
            "image 56/195 /content/drive/MyDrive/Gender.v1i.yolov8/test/images/0-1520-_jpg.rf.c37a4c56d7dce01a02b9c3721f34dce4.jpg: 640x640 1 female, 15.5ms\n",
            "image 57/195 /content/drive/MyDrive/Gender.v1i.yolov8/test/images/0-1539-_jpg.rf.101f0f41b13401a4db32edfad5d4b6bd.jpg: 640x640 1 female, 15.9ms\n",
            "image 58/195 /content/drive/MyDrive/Gender.v1i.yolov8/test/images/0-1549-_jpg.rf.c436a1637468eb4b9e28513c51f089bc.jpg: 640x640 1 female, 15.9ms\n",
            "image 59/195 /content/drive/MyDrive/Gender.v1i.yolov8/test/images/0-16-_jpg.rf.9ae21ea9fe3aa03adaf9c0ded0ff0a6e.jpg: 640x640 1 female, 15.9ms\n",
            "image 60/195 /content/drive/MyDrive/Gender.v1i.yolov8/test/images/0-1612-_jpg.rf.78cd4be0a22e5209ddcfa9591d20d1e0.jpg: 640x640 1 male, 15.9ms\n",
            "image 61/195 /content/drive/MyDrive/Gender.v1i.yolov8/test/images/0-1632-_jpg.rf.2abe26e2f4dda4fe96a5797386788725.jpg: 640x640 1 female, 15.9ms\n",
            "image 62/195 /content/drive/MyDrive/Gender.v1i.yolov8/test/images/0-1680-_jpg.rf.d0a5c2114a24816e82ae1d490902d7ed.jpg: 640x640 1 female, 15.5ms\n",
            "image 63/195 /content/drive/MyDrive/Gender.v1i.yolov8/test/images/0-1795-_jpg.rf.8cf04cad793aedfb3c30df0163adc9c5.jpg: 640x640 1 female, 15.5ms\n",
            "image 64/195 /content/drive/MyDrive/Gender.v1i.yolov8/test/images/0-1809-_jpg.rf.d575dd5cea4364d6e0d23919adfc607c.jpg: 640x640 1 female, 15.6ms\n",
            "image 65/195 /content/drive/MyDrive/Gender.v1i.yolov8/test/images/0-1815-_jpg.rf.cbce67fc35a7bf7530ac3b945bfb05fc.jpg: 640x640 1 female, 15.6ms\n",
            "image 66/195 /content/drive/MyDrive/Gender.v1i.yolov8/test/images/0-1835-_jpg.rf.92bc744ef90a99e3dd906694a092d219.jpg: 640x640 1 female, 15.6ms\n",
            "image 67/195 /content/drive/MyDrive/Gender.v1i.yolov8/test/images/0-1849-_jpg.rf.e6d7847e1ad7ec8a51659114d053baa9.jpg: 640x640 1 female, 15.6ms\n",
            "image 68/195 /content/drive/MyDrive/Gender.v1i.yolov8/test/images/0-1874-_jpg.rf.ac2ab7888e023471f3c6105519605f28.jpg: 640x640 1 female, 15.6ms\n",
            "image 69/195 /content/drive/MyDrive/Gender.v1i.yolov8/test/images/0-208-_jpg.rf.d4b87fdc8db92bf99f1b8328183bbf87.jpg: 640x640 1 female, 15.6ms\n",
            "image 70/195 /content/drive/MyDrive/Gender.v1i.yolov8/test/images/0-2154-_jpg.rf.4b0cb24e53f950281db75f0378993bc1.jpg: 640x640 1 female, 15.6ms\n",
            "image 71/195 /content/drive/MyDrive/Gender.v1i.yolov8/test/images/0-2292-_jpg.rf.24a00a5b30265f9724cb2bd5f352a373.jpg: 640x640 1 female, 15.8ms\n",
            "image 72/195 /content/drive/MyDrive/Gender.v1i.yolov8/test/images/0-29-_png.rf.a69e09c1107aa27226eb8e58ca07a41a.jpg: 640x640 1 female, 15.6ms\n",
            "image 73/195 /content/drive/MyDrive/Gender.v1i.yolov8/test/images/0-450-_jpg.rf.1b074aec66afe729d03ba7666bd26357.jpg: 640x640 1 female, 34.0ms\n",
            "image 74/195 /content/drive/MyDrive/Gender.v1i.yolov8/test/images/1-101-_jpg.rf.256e8ffbfc3cd563219b0c42a3f3e400.jpg: 640x640 1 male, 40.2ms\n",
            "image 75/195 /content/drive/MyDrive/Gender.v1i.yolov8/test/images/1-1012-_jpg.rf.c12f0dd0e23aaae74cbaed1c29d0c49a.jpg: 640x640 1 male, 47.3ms\n",
            "image 76/195 /content/drive/MyDrive/Gender.v1i.yolov8/test/images/1-1020-_jpg.rf.6e30f92c504b5157cd2a3db4005f6990.jpg: 640x640 1 male, 26.5ms\n",
            "image 77/195 /content/drive/MyDrive/Gender.v1i.yolov8/test/images/1-1038-_jpg.rf.17d46e3cef25b4573a84ad70743a362f.jpg: 640x640 1 male, 15.6ms\n",
            "image 78/195 /content/drive/MyDrive/Gender.v1i.yolov8/test/images/1-1054-_jpg.rf.f3fe24a5bbf042c977221231e2ed56b9.jpg: 640x640 1 male, 15.6ms\n",
            "image 79/195 /content/drive/MyDrive/Gender.v1i.yolov8/test/images/1-1060-_jpg.rf.35bcc5c3f82bb13c55009b1760d48152.jpg: 640x640 1 male, 15.6ms\n",
            "image 80/195 /content/drive/MyDrive/Gender.v1i.yolov8/test/images/1-1063-_jpg.rf.b72dce0a84fcc82bf8a877a390466358.jpg: 640x640 1 male, 15.6ms\n",
            "image 81/195 /content/drive/MyDrive/Gender.v1i.yolov8/test/images/1-1068-_jpg.rf.ee5ff2322e81f3e4feefc3a5d4f36f23.jpg: 640x640 1 male, 15.5ms\n",
            "image 82/195 /content/drive/MyDrive/Gender.v1i.yolov8/test/images/1-1071-_jpg.rf.4edd32bbebb9a3fa93bc643be4c2d344.jpg: 640x640 1 male, 15.9ms\n",
            "image 83/195 /content/drive/MyDrive/Gender.v1i.yolov8/test/images/1-1075-_jpg.rf.d1596ae835f2f19dde0610da25aabd47.jpg: 640x640 1 male, 15.5ms\n",
            "image 84/195 /content/drive/MyDrive/Gender.v1i.yolov8/test/images/1-1087-_jpg.rf.93d0df50c3160df9cf20bbd9c4959c99.jpg: 640x640 1 male, 15.5ms\n",
            "image 85/195 /content/drive/MyDrive/Gender.v1i.yolov8/test/images/1-1094-_jpg.rf.3b79f575af5256fd6b806954184413eb.jpg: 640x640 1 male, 15.5ms\n",
            "image 86/195 /content/drive/MyDrive/Gender.v1i.yolov8/test/images/1-1098-_jpg.rf.a035cfca60d89c3541b9452fa08cca77.jpg: 640x640 1 male, 15.5ms\n",
            "image 87/195 /content/drive/MyDrive/Gender.v1i.yolov8/test/images/1-1099-_jpg.rf.4dc2045b7a08c85640c19c263b0e62cc.jpg: 640x640 1 male, 15.5ms\n",
            "image 88/195 /content/drive/MyDrive/Gender.v1i.yolov8/test/images/1-1113-_jpg.rf.e6da32a6db390f70a97077ac2648dd51.jpg: 640x640 1 male, 15.5ms\n",
            "image 89/195 /content/drive/MyDrive/Gender.v1i.yolov8/test/images/1-1119-_jpg.rf.033ce74b99db52c2a6c57c2a5d913307.jpg: 640x640 1 male, 13.4ms\n",
            "image 90/195 /content/drive/MyDrive/Gender.v1i.yolov8/test/images/1-1139-_jpg.rf.1187fa2e356bddf1cf0bc0f6fd23c925.jpg: 640x640 1 male, 13.4ms\n",
            "image 91/195 /content/drive/MyDrive/Gender.v1i.yolov8/test/images/1-1143-_jpg.rf.c7d26f978f104c4ce2a43be2235ca6e4.jpg: 640x640 1 male, 13.4ms\n",
            "image 92/195 /content/drive/MyDrive/Gender.v1i.yolov8/test/images/1-1146-_jpg.rf.798b7dd03d99b0d94f35578a55f66715.jpg: 640x640 1 male, 13.4ms\n",
            "image 93/195 /content/drive/MyDrive/Gender.v1i.yolov8/test/images/1-1179-_jpg.rf.bbf33873b689a46770953b9b70386edd.jpg: 640x640 1 male, 13.4ms\n",
            "image 94/195 /content/drive/MyDrive/Gender.v1i.yolov8/test/images/1-1191-_jpg.rf.e6cec756cdfa96fc1435a6f9d2342434.jpg: 640x640 1 male, 13.4ms\n",
            "image 95/195 /content/drive/MyDrive/Gender.v1i.yolov8/test/images/1-1197-_jpg.rf.5535b37bc672ecf298663e2e532f2792.jpg: 640x640 1 male, 12.9ms\n",
            "image 96/195 /content/drive/MyDrive/Gender.v1i.yolov8/test/images/1-1207-_jpg.rf.48342f535b8f3c825d34d7ecbcd2baba.jpg: 640x640 1 male, 12.4ms\n",
            "image 97/195 /content/drive/MyDrive/Gender.v1i.yolov8/test/images/1-1267-_jpg.rf.39a9618dda3c20e6fddd1eb6add053c4.jpg: 640x640 1 male, 12.4ms\n",
            "image 98/195 /content/drive/MyDrive/Gender.v1i.yolov8/test/images/1-1275-_jpg.rf.604c16fdcf7a719b497d5a1280fb2027.jpg: 640x640 1 male, 12.4ms\n",
            "image 99/195 /content/drive/MyDrive/Gender.v1i.yolov8/test/images/1-1279-_jpg.rf.df2e7782f81dc2daee425fa1b7c6295e.jpg: 640x640 1 male, 12.4ms\n",
            "image 100/195 /content/drive/MyDrive/Gender.v1i.yolov8/test/images/1-130-_jpg.rf.6da4685cafde45a1c0628d44d3d47384.jpg: 640x640 1 male, 12.4ms\n",
            "image 101/195 /content/drive/MyDrive/Gender.v1i.yolov8/test/images/1-134-_jpg.rf.db458cc834908b117f20c99a7c5867b3.jpg: 640x640 1 male, 12.4ms\n",
            "image 102/195 /content/drive/MyDrive/Gender.v1i.yolov8/test/images/1-1364-_jpg.rf.875aa10766eca9e39950fefd94f98b21.jpg: 640x640 1 male, 11.9ms\n",
            "image 103/195 /content/drive/MyDrive/Gender.v1i.yolov8/test/images/1-1365-_jpg.rf.7181ed714fa480bcfe01408cdfc23b47.jpg: 640x640 1 female, 11.8ms\n",
            "image 104/195 /content/drive/MyDrive/Gender.v1i.yolov8/test/images/1-1401-_jpg.rf.2ded9ad49d5ec368e3b4c53c0a4b6994.jpg: 640x640 1 male, 11.9ms\n",
            "image 105/195 /content/drive/MyDrive/Gender.v1i.yolov8/test/images/1-1407-_jpg.rf.49b75aed4b641cc187d04da3144d80ee.jpg: 640x640 1 male, 11.9ms\n",
            "image 106/195 /content/drive/MyDrive/Gender.v1i.yolov8/test/images/1-1413-_jpg.rf.d29af1cdedac2e64aa483855c0e4d1ff.jpg: 640x640 1 male, 11.9ms\n",
            "image 107/195 /content/drive/MyDrive/Gender.v1i.yolov8/test/images/1-1420-_jpg.rf.59a20ea92feb817be22c413dc6fd271f.jpg: 640x640 1 male, 11.9ms\n",
            "image 108/195 /content/drive/MyDrive/Gender.v1i.yolov8/test/images/1-1421-_jpg.rf.d77cfa78186156a7a8a8986e9a6746ec.jpg: 640x640 1 male, 11.9ms\n",
            "image 109/195 /content/drive/MyDrive/Gender.v1i.yolov8/test/images/1-1436-_jpg.rf.bbd3fd4fc29bde70fca4b0c3fcaa8e15.jpg: 640x640 1 female, 11.9ms\n",
            "image 110/195 /content/drive/MyDrive/Gender.v1i.yolov8/test/images/1-1437-_jpg.rf.f5089ba231963289bcded3c86aa372a1.jpg: 640x640 1 male, 11.9ms\n",
            "image 111/195 /content/drive/MyDrive/Gender.v1i.yolov8/test/images/1-1447-_jpg.rf.baa52a1f5a15a8eb783387659e78d410.jpg: 640x640 1 male, 11.9ms\n",
            "image 112/195 /content/drive/MyDrive/Gender.v1i.yolov8/test/images/1-146-_jpg.rf.520d30ffbf2e43430f4291beb421783c.jpg: 640x640 1 male, 11.9ms\n",
            "image 113/195 /content/drive/MyDrive/Gender.v1i.yolov8/test/images/1-153-_jpg.rf.ef92c79e1f1aa325adb16fe4a020176f.jpg: 640x640 1 male, 11.9ms\n",
            "image 114/195 /content/drive/MyDrive/Gender.v1i.yolov8/test/images/1-1543-_jpg.rf.0ff420a2ec24ce999f9d139318cc7efe.jpg: 640x640 1 male, 12.0ms\n",
            "image 115/195 /content/drive/MyDrive/Gender.v1i.yolov8/test/images/1-1549-_jpg.rf.7ed23e3f536479e340ae2c107acaa62c.jpg: 640x640 1 male, 11.7ms\n",
            "image 116/195 /content/drive/MyDrive/Gender.v1i.yolov8/test/images/1-1561-_jpg.rf.ce968be5196f313a46de65a7745a5967.jpg: 640x640 1 male, 11.8ms\n",
            "image 117/195 /content/drive/MyDrive/Gender.v1i.yolov8/test/images/1-1567-_jpg.rf.1c04bab952e0fb9a135cc967d20f7ae9.jpg: 640x640 1 male, 11.7ms\n",
            "image 118/195 /content/drive/MyDrive/Gender.v1i.yolov8/test/images/1-1643-_jpg.rf.266e07b951e08461f5e98861a8922203.jpg: 640x640 1 male, 11.7ms\n",
            "image 119/195 /content/drive/MyDrive/Gender.v1i.yolov8/test/images/1-165-_jpg.rf.2ed9f416e0e31c37b2fa85543c39d6f0.jpg: 640x640 1 male, 11.7ms\n",
            "image 120/195 /content/drive/MyDrive/Gender.v1i.yolov8/test/images/1-1669-_jpg.rf.206951bd70e85c84632244d1370d693b.jpg: 640x640 1 male, 11.7ms\n",
            "image 121/195 /content/drive/MyDrive/Gender.v1i.yolov8/test/images/1-1670-_jpg.rf.943935df0a7194f22e322926dd1a776a.jpg: 640x640 1 male, 11.7ms\n",
            "image 122/195 /content/drive/MyDrive/Gender.v1i.yolov8/test/images/1-1680-_jpg.rf.cc82b9dbbda4eb8c270f6752ee8fc3ab.jpg: 640x640 1 male, 11.7ms\n",
            "image 123/195 /content/drive/MyDrive/Gender.v1i.yolov8/test/images/1-169-_jpg.rf.e01db4c5bf4ca7ca6bf9f5ec18fb6c12.jpg: 640x640 1 male, 11.8ms\n",
            "image 124/195 /content/drive/MyDrive/Gender.v1i.yolov8/test/images/1-1690-_jpg.rf.18082938a142694107384649311a1f07.jpg: 640x640 1 male, 11.7ms\n",
            "image 125/195 /content/drive/MyDrive/Gender.v1i.yolov8/test/images/1-1694-_jpg.rf.35bed993010b0a81f72dd8387e91d1f1.jpg: 640x640 1 male, 11.7ms\n",
            "image 126/195 /content/drive/MyDrive/Gender.v1i.yolov8/test/images/1-1707-_jpg.rf.b2fbc05bea159a98f7d0d3be669c4574.jpg: 640x640 1 male, 11.7ms\n",
            "image 127/195 /content/drive/MyDrive/Gender.v1i.yolov8/test/images/1-1714-_jpg.rf.bfd44e1a72618c81816e587199c7c8c9.jpg: 640x640 1 male, 11.7ms\n",
            "image 128/195 /content/drive/MyDrive/Gender.v1i.yolov8/test/images/1-1717-_jpg.rf.609d593487dc9afd549d20b2bb903f75.jpg: 640x640 1 male, 11.5ms\n",
            "image 129/195 /content/drive/MyDrive/Gender.v1i.yolov8/test/images/1-1717-_jpg.rf.87be69e033c7052b4fb8488e4e474c20.jpg: 640x640 1 male, 11.6ms\n",
            "image 130/195 /content/drive/MyDrive/Gender.v1i.yolov8/test/images/1-1722-_jpg.rf.0ef763ef276a932cdc821d04469fff56.jpg: 640x640 1 male, 11.5ms\n",
            "image 131/195 /content/drive/MyDrive/Gender.v1i.yolov8/test/images/1-1740-_jpg.rf.f9eebec9708ae3cc6a7b523aded37605.jpg: 640x640 1 male, 11.5ms\n",
            "image 132/195 /content/drive/MyDrive/Gender.v1i.yolov8/test/images/1-175-_jpg.rf.2ee270c6d8ed06f9aaa61ba9513082dc.jpg: 640x640 1 male, 11.5ms\n",
            "image 133/195 /content/drive/MyDrive/Gender.v1i.yolov8/test/images/1-1767-_jpg.rf.faf28c7014d774226d17d0fc479674fb.jpg: 640x640 1 female, 11.5ms\n",
            "image 134/195 /content/drive/MyDrive/Gender.v1i.yolov8/test/images/1-1793-_jpg.rf.16e85f3f292cc7508d218dc355cb40a0.jpg: 640x640 1 female, 11.5ms\n",
            "image 135/195 /content/drive/MyDrive/Gender.v1i.yolov8/test/images/1-18-_jpg.rf.165ce5c6b9ac253cbbab90c9e96546c7.jpg: 640x640 1 male, 11.5ms\n",
            "image 136/195 /content/drive/MyDrive/Gender.v1i.yolov8/test/images/1-18-_png.rf.bbff7cc107187bcaa812b496cd1e1fdd.jpg: 640x640 1 male, 11.6ms\n",
            "image 137/195 /content/drive/MyDrive/Gender.v1i.yolov8/test/images/1-1841-_jpg.rf.315ed33a24c4c42d723fb1bc526f35f2.jpg: 640x640 1 male, 11.6ms\n",
            "image 138/195 /content/drive/MyDrive/Gender.v1i.yolov8/test/images/1-1843-_jpg.rf.8e11fc9bf349d357acb8a49a9810f993.jpg: 640x640 1 male, 11.6ms\n",
            "image 139/195 /content/drive/MyDrive/Gender.v1i.yolov8/test/images/1-1852-_jpg.rf.173ebd28e722679b6e79925fa5f046f7.jpg: 640x640 1 female, 11.6ms\n",
            "image 140/195 /content/drive/MyDrive/Gender.v1i.yolov8/test/images/1-1854-_jpg.rf.bbb140857ddf38c497aa5a1168169822.jpg: 640x640 1 female, 1 male, 11.6ms\n",
            "image 141/195 /content/drive/MyDrive/Gender.v1i.yolov8/test/images/1-1861-_jpg.rf.66a2d911d57c53a8cb9c970cfb2cda66.jpg: 640x640 1 male, 11.4ms\n",
            "image 142/195 /content/drive/MyDrive/Gender.v1i.yolov8/test/images/1-1887-_jpg.rf.2d7a228af1781f312c5c0f87eb389b22.jpg: 640x640 1 male, 11.4ms\n",
            "image 143/195 /content/drive/MyDrive/Gender.v1i.yolov8/test/images/1-1908-_jpg.rf.a996379be27e21d4678f7ef0753a8036.jpg: 640x640 1 male, 11.4ms\n",
            "image 144/195 /content/drive/MyDrive/Gender.v1i.yolov8/test/images/1-1912-_jpg.rf.5ec0ef24c7036a7a798f54cd28359a6e.jpg: 640x640 1 male, 11.4ms\n",
            "image 145/195 /content/drive/MyDrive/Gender.v1i.yolov8/test/images/1-1924-_jpg.rf.4b3828203a77808f0a46a294839d6b2d.jpg: 640x640 1 female, 11.4ms\n",
            "image 146/195 /content/drive/MyDrive/Gender.v1i.yolov8/test/images/1-1964-_jpg.rf.0b20774807962a23e333ec0f8705ef0a.jpg: 640x640 1 male, 11.4ms\n",
            "image 147/195 /content/drive/MyDrive/Gender.v1i.yolov8/test/images/1-1996-_jpg.rf.245d84c1a5e731f5476aef9906ff3455.jpg: 640x640 1 male, 11.4ms\n",
            "image 148/195 /content/drive/MyDrive/Gender.v1i.yolov8/test/images/1-2002-_jpg.rf.62040c71d332069f5042e54a5d390f5a.jpg: 640x640 1 male, 11.3ms\n",
            "image 149/195 /content/drive/MyDrive/Gender.v1i.yolov8/test/images/1-202-_jpg.rf.416afadda8dfa30f38485425f71f11f5.jpg: 640x640 1 male, 11.3ms\n",
            "image 150/195 /content/drive/MyDrive/Gender.v1i.yolov8/test/images/1-2021-_jpg.rf.bd50f323109d1fa8476409eea779a41e.jpg: 640x640 1 male, 11.2ms\n",
            "image 151/195 /content/drive/MyDrive/Gender.v1i.yolov8/test/images/1-2030-_jpg.rf.151be527b6ead716d6ee01d514c1ee08.jpg: 640x640 1 male, 11.2ms\n",
            "image 152/195 /content/drive/MyDrive/Gender.v1i.yolov8/test/images/1-2039-_jpg.rf.37ded0b74ab03bf0f43d87a191eccbc8.jpg: 640x640 1 male, 11.3ms\n",
            "image 153/195 /content/drive/MyDrive/Gender.v1i.yolov8/test/images/1-2074-_jpg.rf.eb37083114bf7c9b581145c2a04ef83f.jpg: 640x640 1 male, 11.2ms\n",
            "image 154/195 /content/drive/MyDrive/Gender.v1i.yolov8/test/images/1-2100-_jpg.rf.9a975a451a655acc8cc756c30ad3ccb0.jpg: 640x640 1 male, 11.4ms\n",
            "image 155/195 /content/drive/MyDrive/Gender.v1i.yolov8/test/images/1-2113-_jpg.rf.81ac3bb6b2daf355e7673b8315644263.jpg: 640x640 1 male, 11.3ms\n",
            "image 156/195 /content/drive/MyDrive/Gender.v1i.yolov8/test/images/1-2125-_jpg.rf.83ca3ffd3b3672765abd4002d9c20d22.jpg: 640x640 1 male, 11.2ms\n",
            "image 157/195 /content/drive/MyDrive/Gender.v1i.yolov8/test/images/1-2257-_jpg.rf.8dd64a050339248978bfbee839e9f0f0.jpg: 640x640 1 male, 11.2ms\n",
            "image 158/195 /content/drive/MyDrive/Gender.v1i.yolov8/test/images/1-2353-_jpg.rf.117c32d357e7b60db805108d84aa9ec4.jpg: 640x640 1 male, 11.2ms\n",
            "image 159/195 /content/drive/MyDrive/Gender.v1i.yolov8/test/images/1-2381-_jpg.rf.0a237643a97c92beccdba7d2734091b7.jpg: 640x640 1 male, 11.2ms\n",
            "image 160/195 /content/drive/MyDrive/Gender.v1i.yolov8/test/images/1-2518-_jpg.rf.33a13c162b8b80f531480e464121298f.jpg: 640x640 1 male, 11.2ms\n",
            "image 161/195 /content/drive/MyDrive/Gender.v1i.yolov8/test/images/1-288-_jpg.rf.1b1ab84c43c7f2dd1a9c4f5bec4ebab1.jpg: 640x640 1 male, 11.2ms\n",
            "image 162/195 /content/drive/MyDrive/Gender.v1i.yolov8/test/images/1-3-_jpg.rf.c6e9bc8d5ea843aeb218e68a819528f8.jpg: 640x640 1 male, 11.2ms\n",
            "image 163/195 /content/drive/MyDrive/Gender.v1i.yolov8/test/images/1-306-_jpg.rf.8df89c850c937c0b015173de01cebb37.jpg: 640x640 1 male, 11.2ms\n",
            "image 164/195 /content/drive/MyDrive/Gender.v1i.yolov8/test/images/1-32-_png.rf.dad7c82afc3718f9233fa7bb916a5295.jpg: 640x640 1 male, 11.2ms\n",
            "image 165/195 /content/drive/MyDrive/Gender.v1i.yolov8/test/images/1-381-_jpg.rf.bbc5565bd0cc5ab9c3fb22ad939aedf3.jpg: 640x640 1 male, 11.2ms\n",
            "image 166/195 /content/drive/MyDrive/Gender.v1i.yolov8/test/images/1-52-_jpg.rf.fcd7848d9cfc10f24bd18d1763ee08a2.jpg: 640x640 1 male, 11.2ms\n",
            "image 167/195 /content/drive/MyDrive/Gender.v1i.yolov8/test/images/1-740-_jpg.rf.1331b7585dd68ad1723d78a533887de7.jpg: 640x640 1 female, 1 male, 11.2ms\n",
            "image 168/195 /content/drive/MyDrive/Gender.v1i.yolov8/test/images/10-1-_jpg.rf.350265201e95e4157f8a2afb5e5c01d9.jpg: 640x640 1 male, 11.3ms\n",
            "image 169/195 /content/drive/MyDrive/Gender.v1i.yolov8/test/images/10-1-_jpg.rf.9034a7e041d2973efb576e8f163cd609.jpg: 640x640 1 male, 11.3ms\n",
            "image 170/195 /content/drive/MyDrive/Gender.v1i.yolov8/test/images/10-116-_jpg.rf.2eecec23be5d16fb0938dca7ef3aa1a4.jpg: 640x640 1 male, 11.2ms\n",
            "image 171/195 /content/drive/MyDrive/Gender.v1i.yolov8/test/images/10-116-_jpg.rf.9a250543fc5a823e7fdbc7b2cfd2af90.jpg: 640x640 1 female, 11.3ms\n",
            "image 172/195 /content/drive/MyDrive/Gender.v1i.yolov8/test/images/10-119-_jpg.rf.87a26e8c7fb2ce2b3d70e3f8d6ae7e79.jpg: 640x640 1 female, 11.2ms\n",
            "image 173/195 /content/drive/MyDrive/Gender.v1i.yolov8/test/images/10-120-_jpg.rf.955c7cfe3805072d66bd7be79bc0c593.jpg: 640x640 1 female, 11.2ms\n",
            "image 174/195 /content/drive/MyDrive/Gender.v1i.yolov8/test/images/10-120-_jpg.rf.c6bd6be08aa57ea76ecec6cc60b1fe50.jpg: 640x640 1 female, 11.2ms\n",
            "image 175/195 /content/drive/MyDrive/Gender.v1i.yolov8/test/images/10-120-_jpg.rf.de8478750e181953f1651e2c21509c96.jpg: 640x640 1 male, 11.2ms\n",
            "image 176/195 /content/drive/MyDrive/Gender.v1i.yolov8/test/images/10-14-_jpg.rf.fc8c578c818335c11609e3f075894c0a.jpg: 640x640 1 male, 11.2ms\n",
            "image 177/195 /content/drive/MyDrive/Gender.v1i.yolov8/test/images/10-141-_jpg.rf.3b6f906b75a774e2d798bedbc5b4fff9.jpg: 640x640 1 male, 11.7ms\n",
            "image 178/195 /content/drive/MyDrive/Gender.v1i.yolov8/test/images/10-141-_jpg.rf.8d117a351888de3ac99c52fe2bb83ec1.jpg: 640x640 1 male, 11.3ms\n",
            "image 179/195 /content/drive/MyDrive/Gender.v1i.yolov8/test/images/10-141-_jpg.rf.ad2d865dcc7fbb663baa8418c486bc5c.jpg: 640x640 1 male, 11.2ms\n",
            "image 180/195 /content/drive/MyDrive/Gender.v1i.yolov8/test/images/10-141-_jpg.rf.b1fba0a27f9933cb2a63d17c833315e6.jpg: 640x640 1 male, 11.2ms\n",
            "image 181/195 /content/drive/MyDrive/Gender.v1i.yolov8/test/images/10-15-_jpg.rf.2b3d562148fdfad924c108a5fa2f358c.jpg: 640x640 1 male, 11.3ms\n",
            "image 182/195 /content/drive/MyDrive/Gender.v1i.yolov8/test/images/10-19-_jpg.rf.617fa98f9c802fc18c80ac70095e3294.jpg: 640x640 1 female, 11.2ms\n",
            "image 183/195 /content/drive/MyDrive/Gender.v1i.yolov8/test/images/10-19-_jpg.rf.7b7f8c80757b629ae5e47ee30429276b.jpg: 640x640 1 female, 11.2ms\n",
            "image 184/195 /content/drive/MyDrive/Gender.v1i.yolov8/test/images/10-19-_jpg.rf.87d494562e9ef193dbe267a611bd3438.jpg: 640x640 1 female, 11.2ms\n",
            "image 185/195 /content/drive/MyDrive/Gender.v1i.yolov8/test/images/10-19-_jpg.rf.dbc66fcc838a266e4618def919c3995b.jpg: 640x640 1 male, 11.2ms\n",
            "image 186/195 /content/drive/MyDrive/Gender.v1i.yolov8/test/images/10-19-_jpg.rf.e7e276bdfc0b4ae2a50b6297eababad1.jpg: 640x640 1 male, 11.2ms\n",
            "image 187/195 /content/drive/MyDrive/Gender.v1i.yolov8/test/images/10-49-_jpg.rf.26f313bfbdd1191fd6013574b563b02e.jpg: 640x640 1 male, 11.3ms\n",
            "image 188/195 /content/drive/MyDrive/Gender.v1i.yolov8/test/images/10-49-_jpg.rf.b73bac2219474185d62f180a70b90339.jpg: 640x640 1 male, 11.2ms\n",
            "image 189/195 /content/drive/MyDrive/Gender.v1i.yolov8/test/images/10-66-_jpg.rf.1dda5431676908f83bce6d7ef153512d.jpg: 640x640 1 female, 11.2ms\n",
            "image 190/195 /content/drive/MyDrive/Gender.v1i.yolov8/test/images/10-68-_jpg.rf.1e701b9c734367b363b3be8d75130d55.jpg: 640x640 1 male, 11.3ms\n",
            "image 191/195 /content/drive/MyDrive/Gender.v1i.yolov8/test/images/10-68-_jpg.rf.5b0a860e40a71250b819c19dd9439b56.jpg: 640x640 1 male, 11.4ms\n",
            "image 192/195 /content/drive/MyDrive/Gender.v1i.yolov8/test/images/10-68-_jpg.rf.7df8a281d9cf658ab5abb3fbca8ad02d.jpg: 640x640 1 male, 11.3ms\n",
            "image 193/195 /content/drive/MyDrive/Gender.v1i.yolov8/test/images/10-70-_jpg.rf.174b8ab46c8cd123390c8089bb32f121.jpg: 640x640 1 male, 11.2ms\n",
            "image 194/195 /content/drive/MyDrive/Gender.v1i.yolov8/test/images/10-99-_jpg.rf.9d5abaeec88e412a88372d16a5a1a6cc.jpg: 640x640 1 female, 11.2ms\n",
            "image 195/195 /content/drive/MyDrive/Gender.v1i.yolov8/test/images/10-99-_jpg.rf.fd99826d68cf74987916ba7dc773d603.jpg: 640x640 1 female, 11.2ms\n",
            "Speed: 1.6ms preprocess, 14.0ms inference, 1.9ms postprocess per image at shape (1, 3, 640, 640)\n",
            "Results saved to \u001b[1mruns/detect/predict\u001b[0m\n",
            "💡 Learn more at https://docs.ultralytics.com/modes/predict\n"
          ]
        }
      ]
    },
    {
      "cell_type": "code",
      "source": [
        "!cp -r /content/runs/detect/predict /content/drive/MyDrive/Gender.v1i.yolov8/Result/gender"
      ],
      "metadata": {
        "id": "7eFwwx7io8dW"
      },
      "execution_count": 8,
      "outputs": []
    },
    {
      "cell_type": "code",
      "source": [],
      "metadata": {
        "id": "ujkDeT-Vqn_f"
      },
      "execution_count": null,
      "outputs": []
    }
  ]
}